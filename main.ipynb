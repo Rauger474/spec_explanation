{
 "cells": [
  {
   "cell_type": "code",
   "execution_count": null,
   "metadata": {},
   "outputs": [],
   "source": [
    "from scipy.io import wavfile\n",
    "import matplotlib.pyplot as plt\n",
    "import IPython.display as ipd\n",
    "import numpy as np\n",
    "\n",
    "from librosa.util import buf_to_float\n",
    "from librosa.display import waveplot, specshow\n",
    "from librosa import amplitude_to_db, stft, power_to_db"
   ]
  },
  {
   "cell_type": "code",
   "execution_count": null,
   "metadata": {},
   "outputs": [],
   "source": [
    "from scipy.io import wavfile\n",
    "import numpy as np\n",
    "from scipy.signal import lfilter\n",
    "from librosa.core import load\n",
    "from librosa.util import buf_to_float\n",
    "from librosa.display import specshow"
   ]
  },
  {
   "cell_type": "code",
   "execution_count": null,
   "metadata": {},
   "outputs": [],
   "source": [
    "fft_size = 512\n",
    "sample_rate = 16000\n",
    "n_mels = 64"
   ]
  },
  {
   "cell_type": "code",
   "execution_count": null,
   "metadata": {},
   "outputs": [],
   "source": [
    "def play_wav(f_name):\n",
    "    sr, wav_data = wavfile.read(f_name)\n",
    "    ipd.display(ipd.Audio(f_name, rate=sr))\n",
    "    \n",
    "    return wav_data\n",
    "    \n",
    "def show_wav(f_name):\n",
    "    sr, wav_data = wavfile.read(f_name)\n",
    "    wav_data = buf_to_float(wav_data)\n",
    "    plt.figure(figsize=(14, 4))\n",
    "    plt.grid()\n",
    "    waveplot(wav_data, sr=sr)\n",
    "    \n",
    "    return wav_data\n",
    "    \n",
    "def show_spec(f_name):\n",
    "    sr, wav_data = wavfile.read(f_name)\n",
    "    wav_data = buf_to_float(wav_data)\n",
    "    spec = stft(wav_data, n_fft=fft_size)\n",
    "    spec_db = amplitude_to_db(abs(spec))\n",
    "    plt.figure(figsize=(14, 8))\n",
    "    specshow(spec_db, sr=sr, x_axis='time', y_axis='hz')\n",
    "    \n",
    "    return spec"
   ]
  },
  {
   "cell_type": "markdown",
   "metadata": {},
   "source": [
    "Обратное преобразование Фурье (представляем сигнал в виде суммы гармоник): $$ x_n = {{1}\\over{N}}\\sum\\limits_{k=0}^{N-1} X_k e^{{{2\\pi i}\\over{N}} k n} $$\n",
    "\n",
    "Прямое преобразование Фурье: $$ X_k = \\sum\\limits_{n=0}^{N-1} x_n e^{-{{2\\pi i}\\over{N}} k n} $$\n",
    "\n",
    "Оконное преобразование Фурье: $$ F(m, k) = \\sum\\limits_{n=-\\infty}^{+\\infty} x[n] w[n-m] e^{-i k n} $$"
   ]
  },
  {
   "cell_type": "code",
   "execution_count": null,
   "metadata": {},
   "outputs": [],
   "source": [
    "f_name = './spec_expl.wav'\n",
    "\n",
    "play_wav(f_name)\n",
    "show_wav(f_name)\n",
    "spec = show_spec(f_name)"
   ]
  },
  {
   "cell_type": "code",
   "execution_count": null,
   "metadata": {},
   "outputs": [],
   "source": [
    "from librosa.core import fft_frequencies\n",
    "from librosa.filters import mel\n",
    "\n",
    "from sklearn.preprocessing import MinMaxScaler"
   ]
  },
  {
   "cell_type": "markdown",
   "metadata": {},
   "source": [
    "Переход к мел шкале от частоты\n",
    "$$ mel = 2595 \\ln(1 + {{freq}\\over{700}}) $$"
   ]
  },
  {
   "cell_type": "code",
   "execution_count": null,
   "metadata": {},
   "outputs": [],
   "source": [
    "def freq_to_mel(f):\n",
    "    return 2595.0 * np.log10(1.0 + f / 700.0)\n",
    "\n",
    "freq = np.arange(0, 8001)\n",
    "mels = freq_to_mel(freq)\n",
    "plt.figure(figsize=(14, 7))\n",
    "plt.plot(freq, mels, label='мел(Гц)')\n",
    "plt.plot(freq, freq, label='y=x')\n",
    "plt.grid()\n",
    "plt.legend()\n",
    "plt.xlabel('Частота, Гц')\n",
    "plt.ylabel('Мел')\n",
    "plt.show()"
   ]
  },
  {
   "cell_type": "code",
   "execution_count": null,
   "metadata": {},
   "outputs": [],
   "source": [
    "n_mels_demo = 10\n",
    "# ---------------------\n",
    "# Код, выдернутый из функции mel (https://librosa.github.io/librosa/_modules/librosa/filters.html#mel)\n",
    "# для визуализации линейного размещения мел фильтров на мел оси\n",
    "max_mel = freq_to_mel(sample_rate//2)\n",
    "mel_f = np.linspace(0, sample_rate//2, n_mels_demo + 2)\n",
    "\n",
    "weights = np.zeros((n_mels_demo, int(1 + fft_size // 2)))\n",
    "\n",
    "fftfreqs = fft_frequencies(sr=sample_rate, n_fft=fft_size)\n",
    "fdiff = np.diff(mel_f)\n",
    "ramps = np.subtract.outer(mel_f, fftfreqs)\n",
    "\n",
    "for i in range(n_mels_demo):\n",
    "    # lower and upper slopes for all bins\n",
    "    lower = -ramps[i] / fdiff[i]\n",
    "    upper = ramps[i+2] / fdiff[i+1]\n",
    "\n",
    "    # .. then intersect them with each other and zero\n",
    "    weights[i] = np.maximum(0, np.minimum(lower, upper))\n",
    "# ---------------------\n",
    "\n",
    "# Рисуем полученные фильтры на мел шкале\n",
    "plt.figure(figsize=(14, 4))\n",
    "plt.title('{} фильтров на мел-шкале'.format(n_mels_demo))\n",
    "for f in weights:\n",
    "    plt.plot(f)\n",
    "plt.xlabel('Мел')\n",
    "plt.grid()\n",
    "freq_labels = [freq for freq in range(0, int(max_mel), 500)]\n",
    "plt.xticks(ticks=np.linspace(0, fft_size//2 + 1, len(freq_labels)), labels=freq_labels)\n",
    "plt.show()\n",
    "\n",
    "# Рисуем полученные фильтры на частотной шкале\n",
    "mel_matrix = mel(sr=sample_rate, n_fft=fft_size, n_mels=n_mels_demo)\n",
    "# делаем фильтры \"высотой\" единица\n",
    "mel_matrix = MinMaxScaler().fit_transform(mel_matrix.T).T\n",
    "\n",
    "plt.figure(figsize=(14, 4))\n",
    "plt.title('{} фильтров на частотной шкале'.format(n_mels_demo))\n",
    "for f in mel_matrix:\n",
    "    plt.plot(f)\n",
    "plt.grid()\n",
    "plt.xlabel('Частота, Гц')\n",
    "freq_labels = [freq for freq in range(0, sample_rate//2 + 1, 1000)]\n",
    "plt.xticks(ticks=np.linspace(0, fft_size//2 + 1, len(freq_labels)), labels=freq_labels)\n",
    "plt.show()"
   ]
  },
  {
   "cell_type": "code",
   "execution_count": null,
   "metadata": {},
   "outputs": [],
   "source": [
    "# теперь возьмем побольше фильтров, нарисуем один из первых на спектре речевого фрагмента нашей вавки\n",
    "mel_matrix = mel(sr=sample_rate, n_fft=fft_size, n_mels=n_mels)\n",
    "mel_matrix_ = MinMaxScaler().fit_transform(mel_matrix.T).T\n",
    "\n",
    "# Рисуем полученные фильтры на частотной шкале\n",
    "plt.figure(figsize=(14, 4))\n",
    "plt.title('{} фильтра на мел-шкале'.format(n_mels))\n",
    "for f in mel_matrix_:\n",
    "    plt.plot(f)\n",
    "plt.grid()\n",
    "plt.xlabel('Частота, Гц')\n",
    "freq_labels = [freq for freq in range(0, sample_rate//2 + 1, 1000)]\n",
    "plt.xticks(ticks=np.linspace(0, fft_size//2 + 1, len(freq_labels)), labels=freq_labels)\n",
    "plt.show()\n",
    "\n",
    "# отдельный фильтр вместе со спектром\n",
    "second_filter = mel_matrix_[2]\n",
    "sixtyth_filter = mel_matrix_[59]\n",
    "spec_part = np.log10(np.abs(spec[:, 100]))\n",
    "spec_part -= spec_part.mean()\n",
    "\n",
    "plt.figure(figsize=(14, 4))\n",
    "plt.plot(spec_part, label='Спектр')\n",
    "plt.title('3-ий и 60-ый фильтр, изображенный на речевом спектре')\n",
    "plt.plot(second_filter*2, label='Мел-фильтр 3')\n",
    "plt.plot(sixtyth_filter*2, label='Мел-фильтр 60')\n",
    "plt.legend()\n",
    "plt.grid()\n",
    "plt.xlabel('Частота, Гц')\n",
    "freq_labels = [freq for freq in range(0, sample_rate//2 + 1, 1000)]\n",
    "plt.xticks(ticks=np.linspace(0, fft_size//2 + 1, len(freq_labels)), labels=freq_labels)\n",
    "\n",
    "plt.show()"
   ]
  },
  {
   "cell_type": "code",
   "execution_count": null,
   "metadata": {},
   "outputs": [],
   "source": [
    "print('Форма матрицы фильтров:', mel_matrix.shape)\n",
    "print('Форма спектрограммы:', spec.shape)\n",
    "\n",
    "mel_spec = np.dot(mel_matrix, spec)\n",
    "\n",
    "print('Форма мел-спектрограммы:', mel_spec.shape)"
   ]
  },
  {
   "cell_type": "code",
   "execution_count": null,
   "metadata": {},
   "outputs": [],
   "source": [
    "spec_db = amplitude_to_db(abs(spec))\n",
    "plt.figure(figsize=(14, 4))\n",
    "specshow(spec_db, sr=sample_rate, x_axis='time', y_axis='hz')\n",
    "plt.title('Спектрограмма')\n",
    "plt.show()\n",
    "\n",
    "mel_spec_db = amplitude_to_db(abs(mel_spec))\n",
    "plt.figure(figsize=(14, 4))\n",
    "plt.title('Мел-спектрограмма')\n",
    "specshow(mel_spec_db, sr=sample_rate, x_axis='time', y_axis='mel')\n",
    "plt.show()\n"
   ]
  },
  {
   "cell_type": "markdown",
   "metadata": {},
   "source": [
    "# MFCC"
   ]
  },
  {
   "cell_type": "code",
   "execution_count": null,
   "metadata": {},
   "outputs": [],
   "source": [
    "from scipy.fftpack import dct"
   ]
  },
  {
   "cell_type": "markdown",
   "metadata": {},
   "source": [
    "$$ y_k = 2 \\sum\\limits_{n=0}^{N-1} x_n \\cos{{\\pi k (2 n + 1)}\\over{2 N}} $$"
   ]
  },
  {
   "cell_type": "code",
   "execution_count": null,
   "metadata": {},
   "outputs": [],
   "source": [
    "mfcc = dct(mel_spec_db, axis=0, n=40)\n",
    "plt.figure(figsize=(14,4))\n",
    "plt.title('Мел-спектрограмма')\n",
    "specshow(mel_spec_db, sr=sample_rate, x_axis='time', y_axis='mel')\n",
    "plt.show()\n",
    "\n",
    "plt.figure(figsize=(14,4))\n",
    "plt.title('MFCC')\n",
    "specshow(mfcc[1:, :], sr=sample_rate, x_axis='time', y_axis='mel')\n",
    "plt.show()"
   ]
  },
  {
   "cell_type": "code",
   "execution_count": null,
   "metadata": {},
   "outputs": [],
   "source": [
    "def get_sff(signal, freq_step=20, sr=16000):\n",
    "    # 1\n",
    "    der_signal = signal[1:] - signal[:-1]\n",
    "\n",
    "    # 2\n",
    "    fk = np.arange(freq_step, 4000, freq_step)\n",
    "\n",
    "    r_n = np.arange(0, len(der_signal), dtype=float)\n",
    "\n",
    "    tmp_spec = []\n",
    "    spec = []\n",
    "\n",
    "    mean_val = 10\n",
    "\n",
    "    for k in fk:\n",
    "        # getting SFF envelope\n",
    "        yk = der_signal * np.exp(1j*(2*np.pi/sr)*k*r_n)\n",
    "        h = lfilter([1], [1, 0.9394], yk)\n",
    "        en = np.abs(h)\n",
    "        # # slow squeeze\n",
    "        # squeeze energy by 10 times\n",
    "        # squeezed_en = np.array([en[j: j + mean_val].mean() for j in range(0, len(en) - mean_val, mean_val)])\n",
    "        # # fast squeeze\n",
    "        bound = -(len(en) % mean_val)\n",
    "        if bound < 0:\n",
    "            en = en[: bound]\n",
    "        r_en = en.reshape((len(en)//mean_val, mean_val))\n",
    "        squeezed_en = np.mean(r_en, axis=1)\n",
    "\n",
    "        tmp_spec.append(np.log(squeezed_en + 1e-10))\n",
    "    return np.asarray(tmp_spec)"
   ]
  },
  {
   "cell_type": "code",
   "execution_count": null,
   "metadata": {},
   "outputs": [],
   "source": [
    "fs, wav_data = wavfile.read(f_name)\n",
    "\n",
    "sff_spec_full = get_sff(wav_data)\n",
    "\n",
    "# отображние \"странной спектрограммы\"\n",
    "plt.figure(figsize=(14, 4))\n",
    "plt.imshow(sff_spec_full[:, 1600:3200])\n",
    "plt.ylabel('Hz')\n",
    "plt.show()\n",
    "\n",
    "spec = show_spec(f_name)"
   ]
  },
  {
   "cell_type": "code",
   "execution_count": null,
   "metadata": {},
   "outputs": [],
   "source": []
  }
 ],
 "metadata": {
  "kernelspec": {
   "display_name": "Python 3",
   "language": "python",
   "name": "python3"
  },
  "language_info": {
   "codemirror_mode": {
    "name": "ipython",
    "version": 3
   },
   "file_extension": ".py",
   "mimetype": "text/x-python",
   "name": "python",
   "nbconvert_exporter": "python",
   "pygments_lexer": "ipython3",
   "version": "3.7.5"
  }
 },
 "nbformat": 4,
 "nbformat_minor": 2
}
